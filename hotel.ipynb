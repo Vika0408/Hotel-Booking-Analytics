{
  "cells": [
    {
      "cell_type": "code",
      "execution_count": 1,
      "metadata": {
        "colab": {
          "base_uri": "https://localhost:8080/"
        },
        "id": "B3HG7nvaYk9d",
        "outputId": "fe57ccf2-0f55-4c86-dc57-680f357f8dbd"
      },
      "outputs": [
        {
          "name": "stdout",
          "output_type": "stream",
          "text": [
            "Requirement already satisfied: pandas in c:\\users\\dell\\onedrive\\desktop\\vanshika\\hotel_ai\\.venv\\lib\\site-packages (2.2.3)\n",
            "Requirement already satisfied: numpy>=1.26.0 in c:\\users\\dell\\onedrive\\desktop\\vanshika\\hotel_ai\\.venv\\lib\\site-packages (from pandas) (2.2.4)\n",
            "Requirement already satisfied: python-dateutil>=2.8.2 in c:\\users\\dell\\onedrive\\desktop\\vanshika\\hotel_ai\\.venv\\lib\\site-packages (from pandas) (2.9.0.post0)\n",
            "Requirement already satisfied: pytz>=2020.1 in c:\\users\\dell\\onedrive\\desktop\\vanshika\\hotel_ai\\.venv\\lib\\site-packages (from pandas) (2025.1)\n",
            "Requirement already satisfied: tzdata>=2022.7 in c:\\users\\dell\\onedrive\\desktop\\vanshika\\hotel_ai\\.venv\\lib\\site-packages (from pandas) (2025.1)\n",
            "Requirement already satisfied: six>=1.5 in c:\\users\\dell\\onedrive\\desktop\\vanshika\\hotel_ai\\.venv\\lib\\site-packages (from python-dateutil>=2.8.2->pandas) (1.17.0)\n",
            "Requirement already satisfied: faiss-cpu in c:\\users\\dell\\onedrive\\desktop\\vanshika\\hotel_ai\\.venv\\lib\\site-packages (1.10.0)\n",
            "Requirement already satisfied: numpy<3.0,>=1.25.0 in c:\\users\\dell\\onedrive\\desktop\\vanshika\\hotel_ai\\.venv\\lib\\site-packages (from faiss-cpu) (2.2.4)\n",
            "Requirement already satisfied: packaging in c:\\users\\dell\\onedrive\\desktop\\vanshika\\hotel_ai\\.venv\\lib\\site-packages (from faiss-cpu) (24.2)\n",
            "Requirement already satisfied: numpy in c:\\users\\dell\\onedrive\\desktop\\vanshika\\hotel_ai\\.venv\\lib\\site-packages (2.2.4)\n",
            "Requirement already satisfied: sentence-transformers in c:\\users\\dell\\onedrive\\desktop\\vanshika\\hotel_ai\\.venv\\lib\\site-packages (3.4.1)\n",
            "Requirement already satisfied: transformers<5.0.0,>=4.41.0 in c:\\users\\dell\\onedrive\\desktop\\vanshika\\hotel_ai\\.venv\\lib\\site-packages (from sentence-transformers) (4.49.0)\n",
            "Requirement already satisfied: tqdm in c:\\users\\dell\\onedrive\\desktop\\vanshika\\hotel_ai\\.venv\\lib\\site-packages (from sentence-transformers) (4.67.1)\n",
            "Requirement already satisfied: torch>=1.11.0 in c:\\users\\dell\\onedrive\\desktop\\vanshika\\hotel_ai\\.venv\\lib\\site-packages (from sentence-transformers) (2.6.0)\n",
            "Requirement already satisfied: scikit-learn in c:\\users\\dell\\onedrive\\desktop\\vanshika\\hotel_ai\\.venv\\lib\\site-packages (from sentence-transformers) (1.6.1)\n",
            "Requirement already satisfied: scipy in c:\\users\\dell\\onedrive\\desktop\\vanshika\\hotel_ai\\.venv\\lib\\site-packages (from sentence-transformers) (1.15.2)\n",
            "Requirement already satisfied: huggingface-hub>=0.20.0 in c:\\users\\dell\\onedrive\\desktop\\vanshika\\hotel_ai\\.venv\\lib\\site-packages (from sentence-transformers) (0.29.3)\n",
            "Requirement already satisfied: Pillow in c:\\users\\dell\\onedrive\\desktop\\vanshika\\hotel_ai\\.venv\\lib\\site-packages (from sentence-transformers) (11.1.0)\n",
            "Requirement already satisfied: filelock in c:\\users\\dell\\onedrive\\desktop\\vanshika\\hotel_ai\\.venv\\lib\\site-packages (from huggingface-hub>=0.20.0->sentence-transformers) (3.18.0)\n",
            "Requirement already satisfied: fsspec>=2023.5.0 in c:\\users\\dell\\onedrive\\desktop\\vanshika\\hotel_ai\\.venv\\lib\\site-packages (from huggingface-hub>=0.20.0->sentence-transformers) (2025.3.0)\n",
            "Requirement already satisfied: packaging>=20.9 in c:\\users\\dell\\onedrive\\desktop\\vanshika\\hotel_ai\\.venv\\lib\\site-packages (from huggingface-hub>=0.20.0->sentence-transformers) (24.2)\n",
            "Requirement already satisfied: pyyaml>=5.1 in c:\\users\\dell\\onedrive\\desktop\\vanshika\\hotel_ai\\.venv\\lib\\site-packages (from huggingface-hub>=0.20.0->sentence-transformers) (6.0.2)\n",
            "Requirement already satisfied: requests in c:\\users\\dell\\onedrive\\desktop\\vanshika\\hotel_ai\\.venv\\lib\\site-packages (from huggingface-hub>=0.20.0->sentence-transformers) (2.32.3)\n",
            "Requirement already satisfied: typing-extensions>=3.7.4.3 in c:\\users\\dell\\onedrive\\desktop\\vanshika\\hotel_ai\\.venv\\lib\\site-packages (from huggingface-hub>=0.20.0->sentence-transformers) (4.12.2)\n",
            "Requirement already satisfied: networkx in c:\\users\\dell\\onedrive\\desktop\\vanshika\\hotel_ai\\.venv\\lib\\site-packages (from torch>=1.11.0->sentence-transformers) (3.4.2)\n",
            "Requirement already satisfied: jinja2 in c:\\users\\dell\\onedrive\\desktop\\vanshika\\hotel_ai\\.venv\\lib\\site-packages (from torch>=1.11.0->sentence-transformers) (3.1.6)\n",
            "Requirement already satisfied: setuptools in c:\\users\\dell\\onedrive\\desktop\\vanshika\\hotel_ai\\.venv\\lib\\site-packages (from torch>=1.11.0->sentence-transformers) (77.0.1)\n",
            "Requirement already satisfied: sympy==1.13.1 in c:\\users\\dell\\onedrive\\desktop\\vanshika\\hotel_ai\\.venv\\lib\\site-packages (from torch>=1.11.0->sentence-transformers) (1.13.1)\n",
            "Requirement already satisfied: mpmath<1.4,>=1.1.0 in c:\\users\\dell\\onedrive\\desktop\\vanshika\\hotel_ai\\.venv\\lib\\site-packages (from sympy==1.13.1->torch>=1.11.0->sentence-transformers) (1.3.0)\n",
            "Requirement already satisfied: colorama in c:\\users\\dell\\onedrive\\desktop\\vanshika\\hotel_ai\\.venv\\lib\\site-packages (from tqdm->sentence-transformers) (0.4.6)\n",
            "Requirement already satisfied: numpy>=1.17 in c:\\users\\dell\\onedrive\\desktop\\vanshika\\hotel_ai\\.venv\\lib\\site-packages (from transformers<5.0.0,>=4.41.0->sentence-transformers) (2.2.4)\n",
            "Requirement already satisfied: regex!=2019.12.17 in c:\\users\\dell\\onedrive\\desktop\\vanshika\\hotel_ai\\.venv\\lib\\site-packages (from transformers<5.0.0,>=4.41.0->sentence-transformers) (2024.11.6)\n",
            "Requirement already satisfied: tokenizers<0.22,>=0.21 in c:\\users\\dell\\onedrive\\desktop\\vanshika\\hotel_ai\\.venv\\lib\\site-packages (from transformers<5.0.0,>=4.41.0->sentence-transformers) (0.21.1)\n",
            "Requirement already satisfied: safetensors>=0.4.1 in c:\\users\\dell\\onedrive\\desktop\\vanshika\\hotel_ai\\.venv\\lib\\site-packages (from transformers<5.0.0,>=4.41.0->sentence-transformers) (0.5.3)\n",
            "Requirement already satisfied: joblib>=1.2.0 in c:\\users\\dell\\onedrive\\desktop\\vanshika\\hotel_ai\\.venv\\lib\\site-packages (from scikit-learn->sentence-transformers) (1.4.2)\n",
            "Requirement already satisfied: threadpoolctl>=3.1.0 in c:\\users\\dell\\onedrive\\desktop\\vanshika\\hotel_ai\\.venv\\lib\\site-packages (from scikit-learn->sentence-transformers) (3.6.0)\n",
            "Requirement already satisfied: MarkupSafe>=2.0 in c:\\users\\dell\\onedrive\\desktop\\vanshika\\hotel_ai\\.venv\\lib\\site-packages (from jinja2->torch>=1.11.0->sentence-transformers) (3.0.2)\n",
            "Requirement already satisfied: charset-normalizer<4,>=2 in c:\\users\\dell\\onedrive\\desktop\\vanshika\\hotel_ai\\.venv\\lib\\site-packages (from requests->huggingface-hub>=0.20.0->sentence-transformers) (3.4.1)\n",
            "Requirement already satisfied: idna<4,>=2.5 in c:\\users\\dell\\onedrive\\desktop\\vanshika\\hotel_ai\\.venv\\lib\\site-packages (from requests->huggingface-hub>=0.20.0->sentence-transformers) (3.10)\n",
            "Requirement already satisfied: urllib3<3,>=1.21.1 in c:\\users\\dell\\onedrive\\desktop\\vanshika\\hotel_ai\\.venv\\lib\\site-packages (from requests->huggingface-hub>=0.20.0->sentence-transformers) (2.3.0)\n",
            "Requirement already satisfied: certifi>=2017.4.17 in c:\\users\\dell\\onedrive\\desktop\\vanshika\\hotel_ai\\.venv\\lib\\site-packages (from requests->huggingface-hub>=0.20.0->sentence-transformers) (2025.1.31)\n",
            "Requirement already satisfied: matplotlib in c:\\users\\dell\\onedrive\\desktop\\vanshika\\hotel_ai\\.venv\\lib\\site-packages (3.10.1)\n",
            "Requirement already satisfied: contourpy>=1.0.1 in c:\\users\\dell\\onedrive\\desktop\\vanshika\\hotel_ai\\.venv\\lib\\site-packages (from matplotlib) (1.3.1)\n",
            "Requirement already satisfied: cycler>=0.10 in c:\\users\\dell\\onedrive\\desktop\\vanshika\\hotel_ai\\.venv\\lib\\site-packages (from matplotlib) (0.12.1)\n",
            "Requirement already satisfied: fonttools>=4.22.0 in c:\\users\\dell\\onedrive\\desktop\\vanshika\\hotel_ai\\.venv\\lib\\site-packages (from matplotlib) (4.56.0)\n",
            "Requirement already satisfied: kiwisolver>=1.3.1 in c:\\users\\dell\\onedrive\\desktop\\vanshika\\hotel_ai\\.venv\\lib\\site-packages (from matplotlib) (1.4.8)\n",
            "Requirement already satisfied: numpy>=1.23 in c:\\users\\dell\\onedrive\\desktop\\vanshika\\hotel_ai\\.venv\\lib\\site-packages (from matplotlib) (2.2.4)\n",
            "Requirement already satisfied: packaging>=20.0 in c:\\users\\dell\\onedrive\\desktop\\vanshika\\hotel_ai\\.venv\\lib\\site-packages (from matplotlib) (24.2)\n",
            "Requirement already satisfied: pillow>=8 in c:\\users\\dell\\onedrive\\desktop\\vanshika\\hotel_ai\\.venv\\lib\\site-packages (from matplotlib) (11.1.0)\n",
            "Requirement already satisfied: pyparsing>=2.3.1 in c:\\users\\dell\\onedrive\\desktop\\vanshika\\hotel_ai\\.venv\\lib\\site-packages (from matplotlib) (3.2.1)\n",
            "Requirement already satisfied: python-dateutil>=2.7 in c:\\users\\dell\\onedrive\\desktop\\vanshika\\hotel_ai\\.venv\\lib\\site-packages (from matplotlib) (2.9.0.post0)\n",
            "Requirement already satisfied: six>=1.5 in c:\\users\\dell\\onedrive\\desktop\\vanshika\\hotel_ai\\.venv\\lib\\site-packages (from python-dateutil>=2.7->matplotlib) (1.17.0)\n",
            "Requirement already satisfied: seaborn in c:\\users\\dell\\onedrive\\desktop\\vanshika\\hotel_ai\\.venv\\lib\\site-packages (0.13.2)\n",
            "Requirement already satisfied: numpy!=1.24.0,>=1.20 in c:\\users\\dell\\onedrive\\desktop\\vanshika\\hotel_ai\\.venv\\lib\\site-packages (from seaborn) (2.2.4)\n",
            "Requirement already satisfied: pandas>=1.2 in c:\\users\\dell\\onedrive\\desktop\\vanshika\\hotel_ai\\.venv\\lib\\site-packages (from seaborn) (2.2.3)\n",
            "Requirement already satisfied: matplotlib!=3.6.1,>=3.4 in c:\\users\\dell\\onedrive\\desktop\\vanshika\\hotel_ai\\.venv\\lib\\site-packages (from seaborn) (3.10.1)\n",
            "Requirement already satisfied: contourpy>=1.0.1 in c:\\users\\dell\\onedrive\\desktop\\vanshika\\hotel_ai\\.venv\\lib\\site-packages (from matplotlib!=3.6.1,>=3.4->seaborn) (1.3.1)\n",
            "Requirement already satisfied: cycler>=0.10 in c:\\users\\dell\\onedrive\\desktop\\vanshika\\hotel_ai\\.venv\\lib\\site-packages (from matplotlib!=3.6.1,>=3.4->seaborn) (0.12.1)\n",
            "Requirement already satisfied: fonttools>=4.22.0 in c:\\users\\dell\\onedrive\\desktop\\vanshika\\hotel_ai\\.venv\\lib\\site-packages (from matplotlib!=3.6.1,>=3.4->seaborn) (4.56.0)\n",
            "Requirement already satisfied: kiwisolver>=1.3.1 in c:\\users\\dell\\onedrive\\desktop\\vanshika\\hotel_ai\\.venv\\lib\\site-packages (from matplotlib!=3.6.1,>=3.4->seaborn) (1.4.8)\n",
            "Requirement already satisfied: packaging>=20.0 in c:\\users\\dell\\onedrive\\desktop\\vanshika\\hotel_ai\\.venv\\lib\\site-packages (from matplotlib!=3.6.1,>=3.4->seaborn) (24.2)\n",
            "Requirement already satisfied: pillow>=8 in c:\\users\\dell\\onedrive\\desktop\\vanshika\\hotel_ai\\.venv\\lib\\site-packages (from matplotlib!=3.6.1,>=3.4->seaborn) (11.1.0)\n",
            "Requirement already satisfied: pyparsing>=2.3.1 in c:\\users\\dell\\onedrive\\desktop\\vanshika\\hotel_ai\\.venv\\lib\\site-packages (from matplotlib!=3.6.1,>=3.4->seaborn) (3.2.1)\n",
            "Requirement already satisfied: python-dateutil>=2.7 in c:\\users\\dell\\onedrive\\desktop\\vanshika\\hotel_ai\\.venv\\lib\\site-packages (from matplotlib!=3.6.1,>=3.4->seaborn) (2.9.0.post0)\n",
            "Requirement already satisfied: pytz>=2020.1 in c:\\users\\dell\\onedrive\\desktop\\vanshika\\hotel_ai\\.venv\\lib\\site-packages (from pandas>=1.2->seaborn) (2025.1)\n",
            "Requirement already satisfied: tzdata>=2022.7 in c:\\users\\dell\\onedrive\\desktop\\vanshika\\hotel_ai\\.venv\\lib\\site-packages (from pandas>=1.2->seaborn) (2025.1)\n",
            "Requirement already satisfied: six>=1.5 in c:\\users\\dell\\onedrive\\desktop\\vanshika\\hotel_ai\\.venv\\lib\\site-packages (from python-dateutil>=2.7->matplotlib!=3.6.1,>=3.4->seaborn) (1.17.0)\n"
          ]
        }
      ],
      "source": [
        "!pip install pandas\n",
        "!pip install faiss-cpu\n",
        "!pip install numpy\n",
        "!pip install sentence-transformers\n",
        "!pip install matplotlib\n",
        "!pip install seaborn"
      ]
    },
    {
      "cell_type": "code",
      "execution_count": 2,
      "metadata": {
        "id": "lW6NBhTRZbil"
      },
      "outputs": [],
      "source": [
        "import pandas as pd\n",
        "import faiss\n",
        "import numpy as np\n",
        "from sentence_transformers import SentenceTransformer\n",
        "import matplotlib.pyplot as plt\n",
        "import seaborn as sns\n",
        "import pickle"
      ]
    },
    {
      "cell_type": "code",
      "execution_count": 4,
      "metadata": {
        "id": "59fK33TtZlHi"
      },
      "outputs": [],
      "source": [
        "df = pd.read_csv(\"hotel_bookings.csv\")"
      ]
    },
    {
      "cell_type": "code",
      "execution_count": 5,
      "metadata": {
        "id": "kxusaXUnb8e8"
      },
      "outputs": [],
      "source": [
        "df.dropna(inplace=True)\n",
        "df[\"arrival_date\"] = pd.to_datetime(df[\"arrival_date_year\"].astype(str) + \"-\" +\n",
        "                                      df[\"arrival_date_month\"] + \"-\" +\n",
        "                                      df[\"arrival_date_day_of_month\"].astype(str))\n",
        "df[\"total_revenue\"] = df[\"adr\"] * (df[\"stays_in_weekend_nights\"] + df[\"stays_in_week_nights\"])"
      ]
    },
    {
      "cell_type": "code",
      "execution_count": 6,
      "metadata": {
        "id": "qHs-snZJeDUJ"
      },
      "outputs": [],
      "source": [
        "if \"hotel\" not in df.columns:\n",
        "    raise KeyError(\"Column 'hotel' not found in dataset\")"
      ]
    },
    {
      "cell_type": "code",
      "execution_count": 7,
      "metadata": {
        "id": "fkD45orPcEvv"
      },
      "outputs": [],
      "source": [
        "revenue_trend = df.groupby(df[\"arrival_date\"].dt.to_period(\"M\"))[\"total_revenue\"].sum().reset_index()\n",
        "analytics = {\n",
        "    \"revenue_trend\": revenue_trend.set_index(\"arrival_date\")[\"total_revenue\"].to_dict(),\n",
        "    \"cancellation_rate\": df[\"is_canceled\"].mean() * 100,\n",
        "    \"geographical_distribution\": df[\"country\"].value_counts().to_dict(),\n",
        "    \"booking_lead_time_distribution\": df[\"lead_time\"].describe().to_dict()\n",
        "}"
      ]
    },
    {
      "cell_type": "code",
      "execution_count": 8,
      "metadata": {
        "id": "qwV-7xpvcqht"
      },
      "outputs": [],
      "source": [
        "with open(\"analytics.pkl\", \"wb\") as f:\n",
        "    pickle.dump(analytics, f)"
      ]
    },
    {
      "cell_type": "code",
      "execution_count": 9,
      "metadata": {
        "id": "LsOQ2sIhcu0e"
      },
      "outputs": [
        {
          "data": {
            "application/vnd.jupyter.widget-view+json": {
              "model_id": "cc08c8be684440c282f7864be1a55a70",
              "version_major": 2,
              "version_minor": 0
            },
            "text/plain": [
              "modules.json:   0%|          | 0.00/349 [00:00<?, ?B/s]"
            ]
          },
          "metadata": {},
          "output_type": "display_data"
        },
        {
          "name": "stderr",
          "output_type": "stream",
          "text": [
            "c:\\Users\\DELL\\OneDrive\\Desktop\\Vanshika\\hotel_ai\\.venv\\Lib\\site-packages\\huggingface_hub\\file_download.py:142: UserWarning: `huggingface_hub` cache-system uses symlinks by default to efficiently store duplicated files but your machine does not support them in C:\\Users\\DELL\\.cache\\huggingface\\hub\\models--sentence-transformers--all-MiniLM-L6-v2. Caching files will still work but in a degraded version that might require more space on your disk. This warning can be disabled by setting the `HF_HUB_DISABLE_SYMLINKS_WARNING` environment variable. For more details, see https://huggingface.co/docs/huggingface_hub/how-to-cache#limitations.\n",
            "To support symlinks on Windows, you either need to activate Developer Mode or to run Python as an administrator. In order to activate developer mode, see this article: https://docs.microsoft.com/en-us/windows/apps/get-started/enable-your-device-for-development\n",
            "  warnings.warn(message)\n"
          ]
        },
        {
          "data": {
            "application/vnd.jupyter.widget-view+json": {
              "model_id": "682df754dd2c48848fcbcc15ec50fa24",
              "version_major": 2,
              "version_minor": 0
            },
            "text/plain": [
              "config_sentence_transformers.json:   0%|          | 0.00/116 [00:00<?, ?B/s]"
            ]
          },
          "metadata": {},
          "output_type": "display_data"
        },
        {
          "data": {
            "application/vnd.jupyter.widget-view+json": {
              "model_id": "c0f208f12ce544b2977b3a3d1b90ac3b",
              "version_major": 2,
              "version_minor": 0
            },
            "text/plain": [
              "README.md:   0%|          | 0.00/10.5k [00:00<?, ?B/s]"
            ]
          },
          "metadata": {},
          "output_type": "display_data"
        },
        {
          "data": {
            "application/vnd.jupyter.widget-view+json": {
              "model_id": "51ff542c76464f61bf4ff1aebcbaec30",
              "version_major": 2,
              "version_minor": 0
            },
            "text/plain": [
              "sentence_bert_config.json:   0%|          | 0.00/53.0 [00:00<?, ?B/s]"
            ]
          },
          "metadata": {},
          "output_type": "display_data"
        },
        {
          "data": {
            "application/vnd.jupyter.widget-view+json": {
              "model_id": "3df10b796eed4f56b4b7d35236a7457a",
              "version_major": 2,
              "version_minor": 0
            },
            "text/plain": [
              "config.json:   0%|          | 0.00/612 [00:00<?, ?B/s]"
            ]
          },
          "metadata": {},
          "output_type": "display_data"
        },
        {
          "data": {
            "application/vnd.jupyter.widget-view+json": {
              "model_id": "b62dd59f824c47128f2789a05616f274",
              "version_major": 2,
              "version_minor": 0
            },
            "text/plain": [
              "model.safetensors:   0%|          | 0.00/90.9M [00:00<?, ?B/s]"
            ]
          },
          "metadata": {},
          "output_type": "display_data"
        },
        {
          "data": {
            "application/vnd.jupyter.widget-view+json": {
              "model_id": "2506f035740f4b63ade6e2b95d02bd0b",
              "version_major": 2,
              "version_minor": 0
            },
            "text/plain": [
              "tokenizer_config.json:   0%|          | 0.00/350 [00:00<?, ?B/s]"
            ]
          },
          "metadata": {},
          "output_type": "display_data"
        },
        {
          "data": {
            "application/vnd.jupyter.widget-view+json": {
              "model_id": "f09c8837a42842de85c6e2014acedb9a",
              "version_major": 2,
              "version_minor": 0
            },
            "text/plain": [
              "vocab.txt:   0%|          | 0.00/232k [00:00<?, ?B/s]"
            ]
          },
          "metadata": {},
          "output_type": "display_data"
        },
        {
          "data": {
            "application/vnd.jupyter.widget-view+json": {
              "model_id": "3dbf72e2acf94a7ea6691e7ebb570232",
              "version_major": 2,
              "version_minor": 0
            },
            "text/plain": [
              "tokenizer.json:   0%|          | 0.00/466k [00:00<?, ?B/s]"
            ]
          },
          "metadata": {},
          "output_type": "display_data"
        },
        {
          "data": {
            "application/vnd.jupyter.widget-view+json": {
              "model_id": "74949d14a644409c99f35d3a8768731a",
              "version_major": 2,
              "version_minor": 0
            },
            "text/plain": [
              "special_tokens_map.json:   0%|          | 0.00/112 [00:00<?, ?B/s]"
            ]
          },
          "metadata": {},
          "output_type": "display_data"
        },
        {
          "data": {
            "application/vnd.jupyter.widget-view+json": {
              "model_id": "1052e7e8bc1046d9a430b632e4c8fd0d",
              "version_major": 2,
              "version_minor": 0
            },
            "text/plain": [
              "config.json:   0%|          | 0.00/190 [00:00<?, ?B/s]"
            ]
          },
          "metadata": {},
          "output_type": "display_data"
        }
      ],
      "source": [
        "model = SentenceTransformer(\"sentence-transformers/all-MiniLM-L6-v2\")\n",
        "data_texts = df[[\"hotel\", \"arrival_date\"]].astype(str).agg(' '.join, axis=1)\n",
        "data_embeddings = model.encode(data_texts.tolist())\n",
        "index = faiss.IndexFlatL2(data_embeddings.shape[1])\n",
        "index.add(np.array(data_embeddings))"
      ]
    },
    {
      "cell_type": "code",
      "execution_count": 10,
      "metadata": {
        "id": "oDlGLlD0fCD3"
      },
      "outputs": [],
      "source": [
        "faiss.write_index(index, \"faiss_index.bin\")"
      ]
    },
    {
      "cell_type": "code",
      "execution_count": 11,
      "metadata": {
        "id": "zEv9gqLOfD21"
      },
      "outputs": [],
      "source": [
        "with open(\"sentence_transformer.pkl\", \"wb\") as f:\n",
        "    pickle.dump(model, f)"
      ]
    }
  ],
  "metadata": {
    "colab": {
      "provenance": []
    },
    "kernelspec": {
      "display_name": ".venv",
      "language": "python",
      "name": "python3"
    },
    "language_info": {
      "codemirror_mode": {
        "name": "ipython",
        "version": 3
      },
      "file_extension": ".py",
      "mimetype": "text/x-python",
      "name": "python",
      "nbconvert_exporter": "python",
      "pygments_lexer": "ipython3",
      "version": "3.12.3"
    }
  },
  "nbformat": 4,
  "nbformat_minor": 0
}
